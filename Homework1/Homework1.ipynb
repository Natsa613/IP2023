{
 "cells": [
  {
   "cell_type": "code",
   "execution_count": 12,
   "metadata": {},
   "outputs": [],
   "source": [
    "import cv2\n",
    "import numpy as np\n",
    "\n",
    "drawing = False  # True if mouse is pressed\n",
    "ix, iy = -1, -1\n",
    "\n",
    "def draw_circle(event, x, y, flags, param):\n",
    "    global ix, iy, drawing, shape_img, text_img\n",
    "\n",
    "    if event == cv2.EVENT_LBUTTONDOWN:\n",
    "        drawing = True\n",
    "        ix, iy = x, y\n",
    "    elif event == cv2.EVENT_MOUSEMOVE:\n",
    "        if drawing:\n",
    "            shape_img = background.copy()  # 배경 이미지로 초기화\n",
    "            cv2.rectangle(shape_img, (ix, iy), (x, y), (0, 0, 255), -1)\n",
    "            text_img = np.zeros_like(background)  # 텍스트 이미지를 초기화\n",
    "            font = cv2.FONT_HERSHEY_SIMPLEX\n",
    "            cv2.putText(text_img, '(' + str(x) + ',' + str(y) + ')', (10, 50), font, 1, (255, 255, 255), 2, cv2.LINE_AA)\n",
    "    elif event == cv2.EVENT_LBUTTONUP:\n",
    "        drawing = False\n",
    "\n",
    "def update_alpha(alpha):\n",
    "    global blended\n",
    "    shape_alpha = cv2.getTrackbarPos('Shape Transparency', 'image')\n",
    "    blended = cv2.addWeighted(background.copy(), 1.0 - shape_alpha / 255, shape_img, shape_alpha / 255, 0)\n",
    "    blended_with_text = cv2.add(blended, text_img)  # 텍스트를 합성\n",
    "    cv2.imshow('image', blended_with_text)\n",
    "\n",
    "background = cv2.imread('ml.png')\n",
    "shape_img = background.copy()  # 도형 이미지를 배경 이미지로 초기화\n",
    "text_img = np.zeros_like(background)  # 텍스트 이미지를 초기화\n",
    "\n",
    "cv2.namedWindow('image')\n",
    "cv2.setMouseCallback('image', draw_circle)\n",
    "cv2.createTrackbar('Shape Transparency', 'image', 0, 255, update_alpha)\n",
    "\n",
    "while True:\n",
    "    shape_alpha = cv2.getTrackbarPos('Shape Transparency', 'image')\n",
    "\n",
    "    blended = cv2.addWeighted(background.copy(), 1.0 - shape_alpha / 255, shape_img, shape_alpha / 255, 0)\n",
    "    blended_with_text = cv2.add(blended, text_img)  # 텍스트를 합성\n",
    "    cv2.imshow('image', blended_with_text)\n",
    "\n",
    "    if cv2.waitKey(20) & 0xFF == 27:\n",
    "        break\n",
    "\n",
    "cv2.destroyAllWindows()\n"
   ]
  }
 ],
 "metadata": {
  "kernelspec": {
   "display_name": "IP2023",
   "language": "python",
   "name": "python3"
  },
  "language_info": {
   "codemirror_mode": {
    "name": "ipython",
    "version": 3
   },
   "file_extension": ".py",
   "mimetype": "text/x-python",
   "name": "python",
   "nbconvert_exporter": "python",
   "pygments_lexer": "ipython3",
   "version": "3.8.17"
  },
  "orig_nbformat": 4
 },
 "nbformat": 4,
 "nbformat_minor": 2
}
