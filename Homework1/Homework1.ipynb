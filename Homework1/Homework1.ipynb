{
 "cells": [
  {
   "cell_type": "code",
   "execution_count": 6,
   "metadata": {},
   "outputs": [],
   "source": [
    "import cv2\n",
    "import numpy as np\n",
    "\n",
    "drawing = False  # True if mouse is pressed\n",
    "mode = True  # if True, draw rectangle. Press 'm' to toggle to curve\n",
    "ix, iy = -1, -1\n",
    "\n",
    "def nothing(x):\n",
    "    pass\n",
    "\n",
    "def draw_circle(event, x, y, flags, param):\n",
    "    global ix, iy, drawing, mode, text_img, shape_img\n",
    "\n",
    "    if event == cv2.EVENT_LBUTTONDOWN:\n",
    "        drawing = True\n",
    "        ix, iy = x, y\n",
    "    elif event == cv2.EVENT_MOUSEMOVE:\n",
    "        if drawing:\n",
    "            if mode:\n",
    "                text_img = np.zeros_like(text_img)  # 텍스트 이미지 초기화\n",
    "                cv2.rectangle(text_img, (ix, iy), (x, y), (0, 0, 255), -1)\n",
    "                font = cv2.FONT_HERSHEY_SIMPLEX\n",
    "                cv2.putText(text_img, '(' + str(x) + ',' + str(y) + ')', (10, 40), font, 1, (255, 255, 255), 2, cv2.LINE_AA)\n",
    "            else:\n",
    "                cv2.circle(shape_img, (x, y), 5, (0, 0, 255), -1)  # 도형 이미지에 원 그리기\n",
    "    elif event == cv2.EVENT_LBUTTONUP:\n",
    "        drawing = False\n",
    "        if mode:\n",
    "            cv2.rectangle(shape_img, (ix, iy), (x, y), (0, 0, 255), -1)  # 도형 이미지 수정\n",
    "        else:\n",
    "            cv2.circle(shape_img, (x, y), 5, (0, 0, 255), -1)\n",
    "\n",
    "text_img = np.zeros((512, 512, 3), np.uint8)\n",
    "background = cv2.imread('ml.png')\n",
    "shape_img = np.zeros_like(background) \n",
    "cv2.namedWindow('image')\n",
    "cv2.setMouseCallback('image', draw_circle)\n",
    "cv2.createTrackbar('Shape Transparency', 'image', 0, 255, nothing)\n",
    "\n",
    "while True:\n",
    "    shape_alpha = cv2.getTrackbarPos('Shape Transparency', 'image')\n",
    "\n",
    "    # 텍스트 이미지와 도형 이미지를 각각 투명도에 맞게 결합\n",
    "    blended = cv2.addWeighted(background.copy(), 1.0, text_img, 1.0, 0)\n",
    "\n",
    "    cv2.imshow('image', blended)\n",
    "\n",
    "    if cv2.waitKey(20) & 0xFF == 27:\n",
    "        break\n",
    "\n",
    "cv2.destroyAllWindows()\n"
   ]
  }
 ],
 "metadata": {
  "kernelspec": {
   "display_name": "IP2023",
   "language": "python",
   "name": "python3"
  },
  "language_info": {
   "codemirror_mode": {
    "name": "ipython",
    "version": 3
   },
   "file_extension": ".py",
   "mimetype": "text/x-python",
   "name": "python",
   "nbconvert_exporter": "python",
   "pygments_lexer": "ipython3",
   "version": "3.8.17"
  },
  "orig_nbformat": 4
 },
 "nbformat": 4,
 "nbformat_minor": 2
}
